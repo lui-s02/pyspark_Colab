{
  "nbformat": 4,
  "nbformat_minor": 0,
  "metadata": {
    "kernelspec": {
      "name": "python37",
      "display_name": "Python 3.7 with Spark",
      "language": "python3"
    },
    "language_info": {
      "mimetype": "text/x-python",
      "nbconvert_exporter": "python",
      "name": "python",
      "pygments_lexer": "ipython3",
      "version": "3.7.9",
      "file_extension": ".py",
      "codemirror_mode": {
        "version": 3,
        "name": "ipython"
      }
    },
    "colab": {
      "provenance": [],
      "collapsed_sections": [
        "kfnVnbvvQ5Oh",
        "P8ogD6eTQ5Oh",
        "srS40yA-Q5Oj",
        "HtRjmwrYQ5Ol",
        "PBDER5tKQ5Ol",
        "3ucciX0fQ5Oo",
        "fcfknDB6Q5Op",
        "EjIIXLnlQ5Oq",
        "eCsBM-v7Q5Or",
        "GzBXUlIKQ5Ow",
        "7iVFBO2YQ5Ox",
        "xoTw_QdGQ5O0",
        "fnpvifOPQ5O1"
      ],
      "include_colab_link": true
    }
  },
  "cells": [
    {
      "cell_type": "markdown",
      "metadata": {
        "id": "view-in-github",
        "colab_type": "text"
      },
      "source": [
        "<a href=\"https://colab.research.google.com/github/lui-s02/pyspark_Colab/blob/main/getting_started_with_pyspark_Colab_Mar2024.ipynb\" target=\"_parent\"><img src=\"https://colab.research.google.com/assets/colab-badge.svg\" alt=\"Open In Colab\"/></a>"
      ]
    },
    {
      "cell_type": "markdown",
      "source": [
        "\n",
        "\n",
        "**TEMA 1**: INTRODUCCION AL BIG DATA Y ENTORNO SPARK\n"
      ],
      "metadata": {
        "id": "toldj0ab-NFx"
      }
    },
    {
      "cell_type": "code",
      "source": [
        "!uname -na"
      ],
      "metadata": {
        "colab": {
          "base_uri": "https://localhost:8080/"
        },
        "id": "Y54GnrAit5Vb",
        "outputId": "9bf1c093-50d8-42ce-c649-b34a12109bf8"
      },
      "execution_count": 1,
      "outputs": [
        {
          "output_type": "stream",
          "name": "stdout",
          "text": [
            "Linux efd989c14213 6.1.85+ #1 SMP PREEMPT_DYNAMIC Thu Jun 27 21:05:47 UTC 2024 x86_64 x86_64 x86_64 GNU/Linux\n"
          ]
        }
      ]
    },
    {
      "cell_type": "code",
      "metadata": {
        "id": "cAWcbJaUQ__l"
      },
      "source": [
        "!apt-get install openjdk-8-jdk-headless -qq > /dev/null"
      ],
      "execution_count": 2,
      "outputs": []
    },
    {
      "cell_type": "code",
      "source": [
        "#!wget https://downloads.apache.org/spark/spark-3.3.1/spark-3.3.1-bin-hadoop3.tgz\n",
        "!wget https://downloads.apache.org/spark/spark-3.4.4/spark-3.4.4-bin-hadoop3.tgz"
      ],
      "metadata": {
        "colab": {
          "base_uri": "https://localhost:8080/"
        },
        "id": "iQDCGO0a10Ng",
        "outputId": "247750e8-e397-4822-9eed-0a5374201737"
      },
      "execution_count": 3,
      "outputs": [
        {
          "output_type": "stream",
          "name": "stdout",
          "text": [
            "--2025-03-14 15:57:38--  https://downloads.apache.org/spark/spark-3.4.4/spark-3.4.4-bin-hadoop3.tgz\n",
            "Resolving downloads.apache.org (downloads.apache.org)... 88.99.208.237, 135.181.214.104, 2a01:4f8:10a:39da::2, ...\n",
            "Connecting to downloads.apache.org (downloads.apache.org)|88.99.208.237|:443... connected.\n",
            "HTTP request sent, awaiting response... 200 OK\n",
            "Length: 388988563 (371M) [application/x-gzip]\n",
            "Saving to: ‘spark-3.4.4-bin-hadoop3.tgz’\n",
            "\n",
            "spark-3.4.4-bin-had 100%[===================>] 370.97M  18.4MB/s    in 24s     \n",
            "\n",
            "2025-03-14 15:58:02 (15.5 MB/s) - ‘spark-3.4.4-bin-hadoop3.tgz’ saved [388988563/388988563]\n",
            "\n"
          ]
        }
      ]
    },
    {
      "cell_type": "code",
      "source": [
        "!tar xf spark-3.4.4-bin-hadoop3.tgz"
      ],
      "metadata": {
        "id": "S9Uwi_Qt2B5T"
      },
      "execution_count": 4,
      "outputs": []
    },
    {
      "cell_type": "code",
      "source": [
        "!pip install -q findspark"
      ],
      "metadata": {
        "id": "Mrww4y1P2Dvn"
      },
      "execution_count": 5,
      "outputs": []
    },
    {
      "cell_type": "code",
      "metadata": {
        "id": "zjGhD6oPRE3k"
      },
      "source": [
        "#All imports\n",
        "import os\n",
        "os.environ[\"JAVA_HOME\"] = \"/usr/lib/jvm/java-8-openjdk-amd64\"\n",
        "os.environ[\"SPARK_HOME\"] = \"/content/spark-3.4.4-bin-hadoop3\""
      ],
      "execution_count": 6,
      "outputs": []
    },
    {
      "cell_type": "code",
      "source": [
        "!java --version"
      ],
      "metadata": {
        "colab": {
          "base_uri": "https://localhost:8080/"
        },
        "id": "uo9n56T8uwWM",
        "outputId": "eaf36a27-33fe-42c2-a4bd-0be24cc584c4"
      },
      "execution_count": 7,
      "outputs": [
        {
          "output_type": "stream",
          "name": "stdout",
          "text": [
            "openjdk 11.0.26 2025-01-21\n",
            "OpenJDK Runtime Environment (build 11.0.26+4-post-Ubuntu-1ubuntu122.04)\n",
            "OpenJDK 64-Bit Server VM (build 11.0.26+4-post-Ubuntu-1ubuntu122.04, mixed mode, sharing)\n"
          ]
        }
      ]
    },
    {
      "cell_type": "code",
      "source": [
        "!echo $JAVA_HOME"
      ],
      "metadata": {
        "colab": {
          "base_uri": "https://localhost:8080/"
        },
        "id": "y1ugK9VAu6as",
        "outputId": "c19086dc-cc85-49d9-9cec-45f6fee5ca29"
      },
      "execution_count": 8,
      "outputs": [
        {
          "output_type": "stream",
          "name": "stdout",
          "text": [
            "/usr/lib/jvm/java-8-openjdk-amd64\n"
          ]
        }
      ]
    },
    {
      "cell_type": "code",
      "source": [
        "!echo $SPARK_HOME"
      ],
      "metadata": {
        "colab": {
          "base_uri": "https://localhost:8080/"
        },
        "id": "iNDaBfU3u_FG",
        "outputId": "f3837a18-2c8e-45a2-9fd0-d40787f8337f"
      },
      "execution_count": 9,
      "outputs": [
        {
          "output_type": "stream",
          "name": "stdout",
          "text": [
            "/content/spark-3.4.4-bin-hadoop3\n"
          ]
        }
      ]
    },
    {
      "cell_type": "code",
      "metadata": {
        "id": "1wsRQ59fRUpF"
      },
      "source": [
        "import findspark\n",
        "findspark.init()\n",
        "from google.colab import files\n",
        "from pyspark import SparkContext, SparkConf,SQLContext,HiveContext\n",
        "from pyspark.sql import SparkSession\n",
        "from pyspark.sql.functions import isnan, when, count, col, lit\n",
        "import pandas as pd\n",
        "import numpy as np\n",
        "import matplotlib.pyplot as plt"
      ],
      "execution_count": 10,
      "outputs": []
    },
    {
      "cell_type": "code",
      "metadata": {
        "id": "oHxty3n1TsTJ"
      },
      "source": [
        "# create SparkSession, SQL, Dataframe, ML\n",
        "spark = SparkSession \\\n",
        "    .builder \\\n",
        "    .getOrCreate()"
      ],
      "execution_count": 11,
      "outputs": []
    },
    {
      "cell_type": "code",
      "metadata": {
        "colab": {
          "base_uri": "https://localhost:8080/",
          "height": 35
        },
        "id": "-qrDzeLUk2xd",
        "outputId": "b30b3c3e-d0c8-4cfb-9b6d-c0828405e6fe"
      },
      "source": [
        "spark.version"
      ],
      "execution_count": 12,
      "outputs": [
        {
          "output_type": "execute_result",
          "data": {
            "text/plain": [
              "'3.4.4'"
            ],
            "application/vnd.google.colaboratory.intrinsic+json": {
              "type": "string"
            }
          },
          "metadata": {},
          "execution_count": 12
        }
      ]
    },
    {
      "cell_type": "code",
      "metadata": {
        "id": "v06mmfN4PmFk"
      },
      "source": [
        "sc = spark.sparkContext"
      ],
      "execution_count": 13,
      "outputs": []
    },
    {
      "cell_type": "code",
      "metadata": {
        "colab": {
          "base_uri": "https://localhost:8080/",
          "height": 35
        },
        "id": "eNwVoSrfoiPT",
        "outputId": "eed58565-826c-45ba-8775-3b1e3d3ff162"
      },
      "source": [
        "sc.version"
      ],
      "execution_count": 14,
      "outputs": [
        {
          "output_type": "execute_result",
          "data": {
            "text/plain": [
              "'3.4.4'"
            ],
            "application/vnd.google.colaboratory.intrinsic+json": {
              "type": "string"
            }
          },
          "metadata": {},
          "execution_count": 14
        }
      ]
    },
    {
      "cell_type": "code",
      "metadata": {
        "id": "MExYLtEGTxbR",
        "colab": {
          "base_uri": "https://localhost:8080/"
        },
        "outputId": "04c3ceac-c74a-41ee-9dcd-a68a104c8650"
      },
      "source": [
        "sqlContext = SQLContext(sc)"
      ],
      "execution_count": 15,
      "outputs": [
        {
          "output_type": "stream",
          "name": "stderr",
          "text": [
            "/content/spark-3.4.4-bin-hadoop3/python/pyspark/sql/context.py:112: FutureWarning: Deprecated in 3.0.0. Use SparkSession.builder.getOrCreate() instead.\n",
            "  warnings.warn(\n"
          ]
        }
      ]
    },
    {
      "cell_type": "markdown",
      "metadata": {
        "id": "VCa3cMShQ5Ob"
      },
      "source": [
        "## Introduction"
      ]
    },
    {
      "cell_type": "markdown",
      "metadata": {
        "id": "QnjCLBsUQ5Ob"
      },
      "source": [
        "Apache Spark is a fast and powerful framework that provides an API to perform massive distributed processing over resilient sets of data. The main abstraction Spark provides is a resilient distributed dataset (RDD), which is the fundamental and backbone data type of this engine. Spark SQL is Apache Spark's module for working with structured data and MLlib is Apache Spark's scalable machine learning library. Apache Spark is written in Scala programming language. To support Python with Spark, Apache Spark community released a tool, PySpark. PySpark has similar computation speed and power as Scala. PySpark is a parallel and distributed engine for running big data applications. Using PySpark, you can work with RDDs in Python programming language.\n",
        "\n",
        "This tutorial discusses Big Data via PySpark, a Python package for spark programming. Spark's high level libraries such as SparkSQL, Mllib will be used to interact with two different datasets."
      ]
    },
    {
      "cell_type": "markdown",
      "metadata": {
        "id": "e4COC6zqQ5Oc"
      },
      "source": [
        "## What is SparkContext?"
      ]
    },
    {
      "cell_type": "markdown",
      "metadata": {
        "id": "qgwimdSgQ5Od"
      },
      "source": [
        "Spark comes with interactive python shell in which PySpark is already installed in it. PySpark automatically creates a SparkContext for you in the PySpark Shell. SparkContext is an entry point into the world of Spark. An entry point is a way of connecting to Spark cluster. We can use SparkContext using **sc** variable. In the following examples, we retrieve SparkContext version and Python version of SparkContext."
      ]
    },
    {
      "cell_type": "code",
      "metadata": {
        "colab": {
          "base_uri": "https://localhost:8080/",
          "height": 35
        },
        "id": "_G-_9FgzQ5Od",
        "outputId": "bc6c1b59-5277-4a7f-9da2-b678225fc3ef"
      },
      "source": [
        "# to retrieve SparkContext version\n",
        "sc.version"
      ],
      "execution_count": 16,
      "outputs": [
        {
          "output_type": "execute_result",
          "data": {
            "text/plain": [
              "'3.4.4'"
            ],
            "application/vnd.google.colaboratory.intrinsic+json": {
              "type": "string"
            }
          },
          "metadata": {},
          "execution_count": 16
        }
      ]
    },
    {
      "cell_type": "code",
      "metadata": {
        "id": "PchF7FA_Q5Og",
        "colab": {
          "base_uri": "https://localhost:8080/",
          "height": 35
        },
        "outputId": "ec631c29-1161-492b-c5a0-85871d1f37d7"
      },
      "source": [
        "# to retriece Python version of SparkContext\n",
        "sc.pythonVer"
      ],
      "execution_count": 17,
      "outputs": [
        {
          "output_type": "execute_result",
          "data": {
            "text/plain": [
              "'3.11'"
            ],
            "application/vnd.google.colaboratory.intrinsic+json": {
              "type": "string"
            }
          },
          "metadata": {},
          "execution_count": 17
        }
      ]
    },
    {
      "cell_type": "markdown",
      "metadata": {
        "id": "kfnVnbvvQ5Oh"
      },
      "source": [
        "## Import Packages"
      ]
    },
    {
      "cell_type": "markdown",
      "source": [
        "**TEMA 2** MANEJO DE DATOS EN SPARK"
      ],
      "metadata": {
        "id": "uNoHtGne-FlW"
      }
    },
    {
      "cell_type": "code",
      "metadata": {
        "id": "wIzKrq-DQ5Oh"
      },
      "source": [
        "import pandas as pd\n",
        "import numpy as np\n",
        "import matplotlib.pyplot as plt\n",
        "from math import sqrt\n",
        "from pyspark.mllib.clustering import KMeans"
      ],
      "execution_count": 19,
      "outputs": []
    },
    {
      "cell_type": "code",
      "source": [
        "# Test Big data\n",
        "\n",
        "n=10\n",
        "var1  = np.arange(start=1, stop=n, step=1).reshape(-1)\n",
        "var2  = np.arange(start=1, stop=n, step=1).reshape(-1)\n",
        "dataset = pd.DataFrame()\n",
        "dataset['col1'] = var1\n",
        "dataset['col2'] = var2\n",
        "dataset.head()\n"
      ],
      "metadata": {
        "colab": {
          "base_uri": "https://localhost:8080/",
          "height": 206
        },
        "id": "7-WijtH639Qq",
        "outputId": "0bc296ef-810e-414b-df72-61bb6024982f"
      },
      "execution_count": 20,
      "outputs": [
        {
          "output_type": "execute_result",
          "data": {
            "text/plain": [
              "   col1  col2\n",
              "0     1     1\n",
              "1     2     2\n",
              "2     3     3\n",
              "3     4     4\n",
              "4     5     5"
            ],
            "text/html": [
              "\n",
              "  <div id=\"df-0dd299b5-dba5-4a9c-a67f-c8475fb9afe4\" class=\"colab-df-container\">\n",
              "    <div>\n",
              "<style scoped>\n",
              "    .dataframe tbody tr th:only-of-type {\n",
              "        vertical-align: middle;\n",
              "    }\n",
              "\n",
              "    .dataframe tbody tr th {\n",
              "        vertical-align: top;\n",
              "    }\n",
              "\n",
              "    .dataframe thead th {\n",
              "        text-align: right;\n",
              "    }\n",
              "</style>\n",
              "<table border=\"1\" class=\"dataframe\">\n",
              "  <thead>\n",
              "    <tr style=\"text-align: right;\">\n",
              "      <th></th>\n",
              "      <th>col1</th>\n",
              "      <th>col2</th>\n",
              "    </tr>\n",
              "  </thead>\n",
              "  <tbody>\n",
              "    <tr>\n",
              "      <th>0</th>\n",
              "      <td>1</td>\n",
              "      <td>1</td>\n",
              "    </tr>\n",
              "    <tr>\n",
              "      <th>1</th>\n",
              "      <td>2</td>\n",
              "      <td>2</td>\n",
              "    </tr>\n",
              "    <tr>\n",
              "      <th>2</th>\n",
              "      <td>3</td>\n",
              "      <td>3</td>\n",
              "    </tr>\n",
              "    <tr>\n",
              "      <th>3</th>\n",
              "      <td>4</td>\n",
              "      <td>4</td>\n",
              "    </tr>\n",
              "    <tr>\n",
              "      <th>4</th>\n",
              "      <td>5</td>\n",
              "      <td>5</td>\n",
              "    </tr>\n",
              "  </tbody>\n",
              "</table>\n",
              "</div>\n",
              "    <div class=\"colab-df-buttons\">\n",
              "\n",
              "  <div class=\"colab-df-container\">\n",
              "    <button class=\"colab-df-convert\" onclick=\"convertToInteractive('df-0dd299b5-dba5-4a9c-a67f-c8475fb9afe4')\"\n",
              "            title=\"Convert this dataframe to an interactive table.\"\n",
              "            style=\"display:none;\">\n",
              "\n",
              "  <svg xmlns=\"http://www.w3.org/2000/svg\" height=\"24px\" viewBox=\"0 -960 960 960\">\n",
              "    <path d=\"M120-120v-720h720v720H120Zm60-500h600v-160H180v160Zm220 220h160v-160H400v160Zm0 220h160v-160H400v160ZM180-400h160v-160H180v160Zm440 0h160v-160H620v160ZM180-180h160v-160H180v160Zm440 0h160v-160H620v160Z\"/>\n",
              "  </svg>\n",
              "    </button>\n",
              "\n",
              "  <style>\n",
              "    .colab-df-container {\n",
              "      display:flex;\n",
              "      gap: 12px;\n",
              "    }\n",
              "\n",
              "    .colab-df-convert {\n",
              "      background-color: #E8F0FE;\n",
              "      border: none;\n",
              "      border-radius: 50%;\n",
              "      cursor: pointer;\n",
              "      display: none;\n",
              "      fill: #1967D2;\n",
              "      height: 32px;\n",
              "      padding: 0 0 0 0;\n",
              "      width: 32px;\n",
              "    }\n",
              "\n",
              "    .colab-df-convert:hover {\n",
              "      background-color: #E2EBFA;\n",
              "      box-shadow: 0px 1px 2px rgba(60, 64, 67, 0.3), 0px 1px 3px 1px rgba(60, 64, 67, 0.15);\n",
              "      fill: #174EA6;\n",
              "    }\n",
              "\n",
              "    .colab-df-buttons div {\n",
              "      margin-bottom: 4px;\n",
              "    }\n",
              "\n",
              "    [theme=dark] .colab-df-convert {\n",
              "      background-color: #3B4455;\n",
              "      fill: #D2E3FC;\n",
              "    }\n",
              "\n",
              "    [theme=dark] .colab-df-convert:hover {\n",
              "      background-color: #434B5C;\n",
              "      box-shadow: 0px 1px 3px 1px rgba(0, 0, 0, 0.15);\n",
              "      filter: drop-shadow(0px 1px 2px rgba(0, 0, 0, 0.3));\n",
              "      fill: #FFFFFF;\n",
              "    }\n",
              "  </style>\n",
              "\n",
              "    <script>\n",
              "      const buttonEl =\n",
              "        document.querySelector('#df-0dd299b5-dba5-4a9c-a67f-c8475fb9afe4 button.colab-df-convert');\n",
              "      buttonEl.style.display =\n",
              "        google.colab.kernel.accessAllowed ? 'block' : 'none';\n",
              "\n",
              "      async function convertToInteractive(key) {\n",
              "        const element = document.querySelector('#df-0dd299b5-dba5-4a9c-a67f-c8475fb9afe4');\n",
              "        const dataTable =\n",
              "          await google.colab.kernel.invokeFunction('convertToInteractive',\n",
              "                                                    [key], {});\n",
              "        if (!dataTable) return;\n",
              "\n",
              "        const docLinkHtml = 'Like what you see? Visit the ' +\n",
              "          '<a target=\"_blank\" href=https://colab.research.google.com/notebooks/data_table.ipynb>data table notebook</a>'\n",
              "          + ' to learn more about interactive tables.';\n",
              "        element.innerHTML = '';\n",
              "        dataTable['output_type'] = 'display_data';\n",
              "        await google.colab.output.renderOutput(dataTable, element);\n",
              "        const docLink = document.createElement('div');\n",
              "        docLink.innerHTML = docLinkHtml;\n",
              "        element.appendChild(docLink);\n",
              "      }\n",
              "    </script>\n",
              "  </div>\n",
              "\n",
              "\n",
              "<div id=\"df-7c17d59f-7f70-45f8-9dc5-5465124503fa\">\n",
              "  <button class=\"colab-df-quickchart\" onclick=\"quickchart('df-7c17d59f-7f70-45f8-9dc5-5465124503fa')\"\n",
              "            title=\"Suggest charts\"\n",
              "            style=\"display:none;\">\n",
              "\n",
              "<svg xmlns=\"http://www.w3.org/2000/svg\" height=\"24px\"viewBox=\"0 0 24 24\"\n",
              "     width=\"24px\">\n",
              "    <g>\n",
              "        <path d=\"M19 3H5c-1.1 0-2 .9-2 2v14c0 1.1.9 2 2 2h14c1.1 0 2-.9 2-2V5c0-1.1-.9-2-2-2zM9 17H7v-7h2v7zm4 0h-2V7h2v10zm4 0h-2v-4h2v4z\"/>\n",
              "    </g>\n",
              "</svg>\n",
              "  </button>\n",
              "\n",
              "<style>\n",
              "  .colab-df-quickchart {\n",
              "      --bg-color: #E8F0FE;\n",
              "      --fill-color: #1967D2;\n",
              "      --hover-bg-color: #E2EBFA;\n",
              "      --hover-fill-color: #174EA6;\n",
              "      --disabled-fill-color: #AAA;\n",
              "      --disabled-bg-color: #DDD;\n",
              "  }\n",
              "\n",
              "  [theme=dark] .colab-df-quickchart {\n",
              "      --bg-color: #3B4455;\n",
              "      --fill-color: #D2E3FC;\n",
              "      --hover-bg-color: #434B5C;\n",
              "      --hover-fill-color: #FFFFFF;\n",
              "      --disabled-bg-color: #3B4455;\n",
              "      --disabled-fill-color: #666;\n",
              "  }\n",
              "\n",
              "  .colab-df-quickchart {\n",
              "    background-color: var(--bg-color);\n",
              "    border: none;\n",
              "    border-radius: 50%;\n",
              "    cursor: pointer;\n",
              "    display: none;\n",
              "    fill: var(--fill-color);\n",
              "    height: 32px;\n",
              "    padding: 0;\n",
              "    width: 32px;\n",
              "  }\n",
              "\n",
              "  .colab-df-quickchart:hover {\n",
              "    background-color: var(--hover-bg-color);\n",
              "    box-shadow: 0 1px 2px rgba(60, 64, 67, 0.3), 0 1px 3px 1px rgba(60, 64, 67, 0.15);\n",
              "    fill: var(--button-hover-fill-color);\n",
              "  }\n",
              "\n",
              "  .colab-df-quickchart-complete:disabled,\n",
              "  .colab-df-quickchart-complete:disabled:hover {\n",
              "    background-color: var(--disabled-bg-color);\n",
              "    fill: var(--disabled-fill-color);\n",
              "    box-shadow: none;\n",
              "  }\n",
              "\n",
              "  .colab-df-spinner {\n",
              "    border: 2px solid var(--fill-color);\n",
              "    border-color: transparent;\n",
              "    border-bottom-color: var(--fill-color);\n",
              "    animation:\n",
              "      spin 1s steps(1) infinite;\n",
              "  }\n",
              "\n",
              "  @keyframes spin {\n",
              "    0% {\n",
              "      border-color: transparent;\n",
              "      border-bottom-color: var(--fill-color);\n",
              "      border-left-color: var(--fill-color);\n",
              "    }\n",
              "    20% {\n",
              "      border-color: transparent;\n",
              "      border-left-color: var(--fill-color);\n",
              "      border-top-color: var(--fill-color);\n",
              "    }\n",
              "    30% {\n",
              "      border-color: transparent;\n",
              "      border-left-color: var(--fill-color);\n",
              "      border-top-color: var(--fill-color);\n",
              "      border-right-color: var(--fill-color);\n",
              "    }\n",
              "    40% {\n",
              "      border-color: transparent;\n",
              "      border-right-color: var(--fill-color);\n",
              "      border-top-color: var(--fill-color);\n",
              "    }\n",
              "    60% {\n",
              "      border-color: transparent;\n",
              "      border-right-color: var(--fill-color);\n",
              "    }\n",
              "    80% {\n",
              "      border-color: transparent;\n",
              "      border-right-color: var(--fill-color);\n",
              "      border-bottom-color: var(--fill-color);\n",
              "    }\n",
              "    90% {\n",
              "      border-color: transparent;\n",
              "      border-bottom-color: var(--fill-color);\n",
              "    }\n",
              "  }\n",
              "</style>\n",
              "\n",
              "  <script>\n",
              "    async function quickchart(key) {\n",
              "      const quickchartButtonEl =\n",
              "        document.querySelector('#' + key + ' button');\n",
              "      quickchartButtonEl.disabled = true;  // To prevent multiple clicks.\n",
              "      quickchartButtonEl.classList.add('colab-df-spinner');\n",
              "      try {\n",
              "        const charts = await google.colab.kernel.invokeFunction(\n",
              "            'suggestCharts', [key], {});\n",
              "      } catch (error) {\n",
              "        console.error('Error during call to suggestCharts:', error);\n",
              "      }\n",
              "      quickchartButtonEl.classList.remove('colab-df-spinner');\n",
              "      quickchartButtonEl.classList.add('colab-df-quickchart-complete');\n",
              "    }\n",
              "    (() => {\n",
              "      let quickchartButtonEl =\n",
              "        document.querySelector('#df-7c17d59f-7f70-45f8-9dc5-5465124503fa button');\n",
              "      quickchartButtonEl.style.display =\n",
              "        google.colab.kernel.accessAllowed ? 'block' : 'none';\n",
              "    })();\n",
              "  </script>\n",
              "</div>\n",
              "\n",
              "    </div>\n",
              "  </div>\n"
            ],
            "application/vnd.google.colaboratory.intrinsic+json": {
              "type": "dataframe",
              "variable_name": "dataset",
              "summary": "{\n  \"name\": \"dataset\",\n  \"rows\": 9,\n  \"fields\": [\n    {\n      \"column\": \"col1\",\n      \"properties\": {\n        \"dtype\": \"number\",\n        \"std\": 2,\n        \"min\": 1,\n        \"max\": 9,\n        \"num_unique_values\": 9,\n        \"samples\": [\n          8,\n          2,\n          6\n        ],\n        \"semantic_type\": \"\",\n        \"description\": \"\"\n      }\n    },\n    {\n      \"column\": \"col2\",\n      \"properties\": {\n        \"dtype\": \"number\",\n        \"std\": 2,\n        \"min\": 1,\n        \"max\": 9,\n        \"num_unique_values\": 9,\n        \"samples\": [\n          8,\n          2,\n          6\n        ],\n        \"semantic_type\": \"\",\n        \"description\": \"\"\n      }\n    }\n  ]\n}"
            }
          },
          "metadata": {},
          "execution_count": 20
        }
      ]
    },
    {
      "cell_type": "markdown",
      "metadata": {
        "id": "P8ogD6eTQ5Oh"
      },
      "source": [
        "## Using map and filter methods with Lambda function in Python"
      ]
    },
    {
      "cell_type": "markdown",
      "metadata": {
        "id": "O6iAxtwbQ5Oi"
      },
      "source": [
        "Lambda functions are anonymous functions in Python. Anonymous functions do not bind to any name in runtime and it returns the functions without any name. They are usually used with map and filter methods. Lambda functions create functions to be called later. In the following example, we use lambda function with map and flter methods."
      ]
    },
    {
      "cell_type": "code",
      "metadata": {
        "colab": {
          "base_uri": "https://localhost:8080/"
        },
        "id": "QSd45SHxQ5Oi",
        "outputId": "763c638f-b529-46f2-b4cc-69900f25a5b8"
      },
      "source": [
        "my_list = [1, 2, 3, 4, 5]\n",
        "squared_my_list = list(  map(lambda x: (x *x ), my_list)  )\n",
        "squared_my_list"
      ],
      "execution_count": 21,
      "outputs": [
        {
          "output_type": "execute_result",
          "data": {
            "text/plain": [
              "[1, 4, 9, 16, 25]"
            ]
          },
          "metadata": {},
          "execution_count": 21
        }
      ]
    },
    {
      "cell_type": "code",
      "metadata": {
        "colab": {
          "base_uri": "https://localhost:8080/"
        },
        "id": "hh5MCNnXQ5Oj",
        "outputId": "a01c25b5-5dae-4442-bc75-e0deefcb749d"
      },
      "source": [
        "filtered_my_list = list( filter(lambda x: ( x%2 == 1), my_list) )\n",
        "filtered_my_list"
      ],
      "execution_count": 22,
      "outputs": [
        {
          "output_type": "execute_result",
          "data": {
            "text/plain": [
              "[1, 3, 5]"
            ]
          },
          "metadata": {},
          "execution_count": 22
        }
      ]
    },
    {
      "cell_type": "markdown",
      "metadata": {
        "id": "srS40yA-Q5Oj"
      },
      "source": [
        "## Creating RDD from Object"
      ]
    },
    {
      "cell_type": "markdown",
      "metadata": {
        "id": "iuMkEBaOQ5Ok"
      },
      "source": [
        "RDDs are data stacks distributed throughout cluster of computers. Each stack is calculated on different computers in the cluster. RDDs are the most basic data structure of Spark. We can create RDD by giving existing object like Python list to SparkContext's parallelize method. In the following example, we create a list with numbers, then we create a RDD from this list."
      ]
    },
    {
      "cell_type": "code",
      "metadata": {
        "id": "_-vQWSSfQ5Ok",
        "colab": {
          "base_uri": "https://localhost:8080/"
        },
        "outputId": "6bd9c78a-5a46-40a3-c273-cd14736a3892"
      },
      "source": [
        "numbers = list(range(1, 100))\n",
        "print(numbers)"
      ],
      "execution_count": 23,
      "outputs": [
        {
          "output_type": "stream",
          "name": "stdout",
          "text": [
            "[1, 2, 3, 4, 5, 6, 7, 8, 9, 10, 11, 12, 13, 14, 15, 16, 17, 18, 19, 20, 21, 22, 23, 24, 25, 26, 27, 28, 29, 30, 31, 32, 33, 34, 35, 36, 37, 38, 39, 40, 41, 42, 43, 44, 45, 46, 47, 48, 49, 50, 51, 52, 53, 54, 55, 56, 57, 58, 59, 60, 61, 62, 63, 64, 65, 66, 67, 68, 69, 70, 71, 72, 73, 74, 75, 76, 77, 78, 79, 80, 81, 82, 83, 84, 85, 86, 87, 88, 89, 90, 91, 92, 93, 94, 95, 96, 97, 98, 99]\n"
          ]
        }
      ]
    },
    {
      "cell_type": "code",
      "metadata": {
        "id": "1WGwyZ63Q5Ok"
      },
      "source": [
        "# load the numbers into PySpark\n",
        "\n",
        "numbersRDD = sc.parallelize(numbers, 5)"
      ],
      "execution_count": 24,
      "outputs": []
    },
    {
      "cell_type": "code",
      "metadata": {
        "colab": {
          "base_uri": "https://localhost:8080/"
        },
        "id": "roQLysrXQ5Ol",
        "outputId": "6f0e9dcd-38dc-4fe2-f625-b6b57dd017eb"
      },
      "source": [
        "print(type(numbersRDD))\n",
        "print(type(numbers))"
      ],
      "execution_count": 25,
      "outputs": [
        {
          "output_type": "stream",
          "name": "stdout",
          "text": [
            "<class 'pyspark.rdd.RDD'>\n",
            "<class 'list'>\n"
          ]
        }
      ]
    },
    {
      "cell_type": "code",
      "metadata": {
        "colab": {
          "base_uri": "https://localhost:8080/"
        },
        "id": "HqUUEMg_zeCa",
        "outputId": "8d216911-5f79-43ef-f16c-a40eafa72ac0"
      },
      "source": [
        "numbersRDD.getNumPartitions()"
      ],
      "execution_count": 26,
      "outputs": [
        {
          "output_type": "execute_result",
          "data": {
            "text/plain": [
              "5"
            ]
          },
          "metadata": {},
          "execution_count": 26
        }
      ]
    },
    {
      "cell_type": "code",
      "metadata": {
        "colab": {
          "base_uri": "https://localhost:8080/"
        },
        "id": "XcxFdk_Pzvkj",
        "outputId": "c4b7420a-1f3e-472b-ef72-8423eab562f0"
      },
      "source": [
        "print(sc.defaultParallelism)"
      ],
      "execution_count": 27,
      "outputs": [
        {
          "output_type": "stream",
          "name": "stdout",
          "text": [
            "2\n"
          ]
        }
      ]
    },
    {
      "cell_type": "markdown",
      "metadata": {
        "id": "HtRjmwrYQ5Ol"
      },
      "source": [
        "## Transformations and Actions on RDD"
      ]
    },
    {
      "cell_type": "markdown",
      "metadata": {
        "id": "bvUR1a-eQ5Ol"
      },
      "source": [
        "Transformations and actions are two type of operations in Spark. Transformations create new RDDs. Actions performs computation on the RDDs. Map, filter, flatmap and union are basic RDD transformations. Collect, take, first and count are basic RDD actions. In the following example, we create rdd named numRDD from list and then using map transformation we create a new rdd named cubeRDD from numRDD. Finally, we use collect action to return a list that contains all of the elements in this RDD."
      ]
    },
    {
      "cell_type": "code",
      "metadata": {
        "colab": {
          "base_uri": "https://localhost:8080/"
        },
        "id": "2QCSBV8zQ5Ol",
        "outputId": "4eefacef-a212-4aad-8515-588a63d32eb4"
      },
      "source": [
        "#Create RDD, map() transformations\n",
        "numbers = list(range(1, 12)) # dataset\n",
        "\n",
        "numRDD = sc.parallelize(numbers, 3)  # divide in 3 RDD\n",
        "cubeRDD = numRDD.map(lambda x: x**3)  # calculo realizado de forma paralela\n",
        "numbers_all = cubeRDD.collect()  # se integra nuevamente con collect()\n",
        "\n",
        "[print('elemento', num) for num in numbers_all];"
      ],
      "execution_count": null,
      "outputs": [
        {
          "output_type": "stream",
          "name": "stdout",
          "text": [
            "elemento 1\n",
            "elemento 8\n",
            "elemento 27\n",
            "elemento 64\n",
            "elemento 125\n",
            "elemento 216\n",
            "elemento 343\n",
            "elemento 512\n",
            "elemento 729\n",
            "elemento 1000\n",
            "elemento 1331\n"
          ]
        }
      ]
    },
    {
      "cell_type": "code",
      "metadata": {
        "colab": {
          "base_uri": "https://localhost:8080/"
        },
        "id": "xICNv9ERZvwl",
        "outputId": "e0289dea-5266-41b9-e857-cd90d3602822"
      },
      "source": [
        "#take shows the first n values\n",
        "numRDD.take(4)"
      ],
      "execution_count": null,
      "outputs": [
        {
          "output_type": "execute_result",
          "data": {
            "text/plain": [
              "[1, 2, 3, 4]"
            ]
          },
          "metadata": {},
          "execution_count": 33
        }
      ]
    },
    {
      "cell_type": "code",
      "metadata": {
        "colab": {
          "base_uri": "https://localhost:8080/"
        },
        "id": "Vie--CtScREV",
        "outputId": "49ae9272-e73b-4565-c383-520c8368d4d1"
      },
      "source": [
        "#reduce :  reduces de values using a conmutative and associative binary operator\n",
        "numbers = list(range(1, 5))\n",
        "print (numbers)\n",
        "\n",
        "numRDD = sc.parallelize(numbers, 2)\n",
        "\n",
        "from operator import add, mul\n",
        "numRDD.reduce(add)     # 1 + 2 + 3  ==> sum()\n",
        "#numRDD.reduce(mul)    # 1 * 2 * 3  ==> fact(n)  !n"
      ],
      "execution_count": null,
      "outputs": [
        {
          "output_type": "stream",
          "name": "stdout",
          "text": [
            "[1, 2, 3, 4]\n"
          ]
        },
        {
          "output_type": "execute_result",
          "data": {
            "text/plain": [
              "10"
            ]
          },
          "metadata": {},
          "execution_count": 38
        }
      ]
    },
    {
      "cell_type": "code",
      "metadata": {
        "colab": {
          "base_uri": "https://localhost:8080/"
        },
        "id": "Dzw41uMVcRcF",
        "outputId": "c6423974-d830-40d3-9db2-a9b57d81e7b1"
      },
      "source": [
        "numRDD.stats()"
      ],
      "execution_count": null,
      "outputs": [
        {
          "output_type": "execute_result",
          "data": {
            "text/plain": [
              "(count: 4, mean: 2.5, stdev: 1.118033988749895, max: 4.0, min: 1.0)"
            ]
          },
          "metadata": {},
          "execution_count": 39
        }
      ]
    },
    {
      "cell_type": "code",
      "metadata": {
        "colab": {
          "base_uri": "https://localhost:8080/"
        },
        "id": "wVcgFi07c1kl",
        "outputId": "a46d64a9-e23e-4ebb-c3d9-51635e3e3c83"
      },
      "source": [
        "numRDD.count()"
      ],
      "execution_count": null,
      "outputs": [
        {
          "output_type": "execute_result",
          "data": {
            "text/plain": [
              "4"
            ]
          },
          "metadata": {},
          "execution_count": 40
        }
      ]
    },
    {
      "cell_type": "markdown",
      "metadata": {
        "id": "PBDER5tKQ5Ol"
      },
      "source": [
        "## Transformations and Actions on pair RDD"
      ]
    },
    {
      "cell_type": "markdown",
      "metadata": {
        "id": "wUiD_U5pQ5Om"
      },
      "source": [
        "Pair RDD is a special type of RDD to work with datasets with key/value pairs. All regular transformations work on pair RDD. In the following example, we create pair RDD with 4 tuple with two numbers. In each tuple, the first number is key and the second number is value. Then, we apply reduceByKey transformation to pair RDD. ReduceByKey tranformation combine values with the same key. Therefore, this transformation adds the values of tuples with the same key."
      ]
    },
    {
      "cell_type": "code",
      "metadata": {
        "colab": {
          "base_uri": "https://localhost:8080/"
        },
        "id": "fTOqStOXQ5Om",
        "outputId": "6da76045-b83e-4cd6-b6a8-474a01d5792f"
      },
      "source": [
        "# create pairRdd with key and value pairs\n",
        "pairRdd = sc.parallelize( [ (1,2), (3,4), (3,6), (3,7), (4,5) ] )\n",
        "\n",
        "[print(num) for num in pairRdd.collect()];\n",
        "\n",
        "print(\"\\n\")\n",
        "\n",
        "pairRdd_Reduced = pairRdd.reduceByKey(lambda x, y: x+y)\n",
        "\n",
        "[print(num) for num in pairRdd_Reduced.collect()];"
      ],
      "execution_count": null,
      "outputs": [
        {
          "output_type": "stream",
          "name": "stdout",
          "text": [
            "(1, 2)\n",
            "(3, 4)\n",
            "(3, 6)\n",
            "(3, 7)\n",
            "(4, 5)\n",
            "\n",
            "\n",
            "(4, 5)\n",
            "(1, 2)\n",
            "(3, 17)\n"
          ]
        }
      ]
    },
    {
      "cell_type": "code",
      "metadata": {
        "colab": {
          "base_uri": "https://localhost:8080/"
        },
        "id": "SvpsoDaqealX",
        "outputId": "64f38851-cb32-49e3-9455-fbcc560236cc"
      },
      "source": [
        "pairRdd.take(2)"
      ],
      "execution_count": null,
      "outputs": [
        {
          "output_type": "execute_result",
          "data": {
            "text/plain": [
              "[(1, 2), (3, 4)]"
            ]
          },
          "metadata": {},
          "execution_count": 42
        }
      ]
    },
    {
      "cell_type": "markdown",
      "metadata": {
        "id": "Zp9CLk38Q5Om"
      },
      "source": [
        "We can sort keys of tuples using sortByKey transformation like in the following example."
      ]
    },
    {
      "cell_type": "code",
      "metadata": {
        "id": "63kwcnrDQ5Om",
        "outputId": "82a2e3e3-2cba-427d-c9f8-dbd1d2d015c5",
        "colab": {
          "base_uri": "https://localhost:8080/"
        }
      },
      "source": [
        "pairRdd_Reduced_Sort = pairRdd_Reduced.sortByKey(ascending=True)\n",
        "\n",
        "[print(num) for num in pairRdd_Reduced_Sort.collect()];"
      ],
      "execution_count": null,
      "outputs": [
        {
          "output_type": "stream",
          "name": "stdout",
          "text": [
            "(1, 2)\n",
            "(3, 17)\n",
            "(4, 5)\n"
          ]
        }
      ]
    },
    {
      "cell_type": "code",
      "metadata": {
        "colab": {
          "base_uri": "https://localhost:8080/"
        },
        "id": "skqvWg7nlf4U",
        "outputId": "dd4d12e4-8019-41c7-98f8-a2b8e9b0bc9d"
      },
      "source": [
        "pairRdd.take(2)"
      ],
      "execution_count": null,
      "outputs": [
        {
          "output_type": "execute_result",
          "data": {
            "text/plain": [
              "[(1, 2), (3, 4)]"
            ]
          },
          "metadata": {},
          "execution_count": 44
        }
      ]
    },
    {
      "cell_type": "markdown",
      "metadata": {
        "id": "NXKo2u2BQ5On"
      },
      "source": [
        "We can count number of tuples with the same key. In the following example, we see (3,2) because there are two tuple with key 3 in pairRdd."
      ]
    },
    {
      "cell_type": "code",
      "metadata": {
        "id": "D_-aaeukQ5On"
      },
      "source": [
        "total = pairRdd.countByKey()"
      ],
      "execution_count": null,
      "outputs": []
    },
    {
      "cell_type": "code",
      "metadata": {
        "id": "NzmRqo54Q5On",
        "colab": {
          "base_uri": "https://localhost:8080/"
        },
        "outputId": "22bf6a69-ed43-4da7-d91d-fb77a8171456"
      },
      "source": [
        "total.items()"
      ],
      "execution_count": null,
      "outputs": [
        {
          "output_type": "execute_result",
          "data": {
            "text/plain": [
              "dict_items([(1, 1), (3, 3), (4, 1)])"
            ]
          },
          "metadata": {},
          "execution_count": 46
        }
      ]
    },
    {
      "cell_type": "code",
      "metadata": {
        "id": "gLJXOFInQ5On",
        "colab": {
          "base_uri": "https://localhost:8080/"
        },
        "outputId": "d5e3be47-8c65-4bdb-be01-c4930206ba0f"
      },
      "source": [
        "[print(\"key\", k, \"has\", v, \"counts\") for k,v in total.items()];"
      ],
      "execution_count": null,
      "outputs": [
        {
          "output_type": "stream",
          "name": "stdout",
          "text": [
            "key 1 has 1 counts\n",
            "key 3 has 3 counts\n",
            "key 4 has 1 counts\n"
          ]
        }
      ]
    },
    {
      "cell_type": "markdown",
      "metadata": {
        "id": "3ucciX0fQ5Oo"
      },
      "source": [
        "## What is SparkSession?"
      ]
    },
    {
      "cell_type": "markdown",
      "metadata": {
        "id": "wnNSOIfUQ5Oo"
      },
      "source": [
        "**SparkContext** is the main entry point for creating RDDs while SparkSession provides a single point of entry to interact with Spark Dataframes. **SparkSession** is used to create DataFrame, register DataFrames, execute SQL queries. We can access SparkSession in PySpark using spark variable.\n",
        "In the following examples, we retrieve SparkSession version and other informations about it."
      ]
    },
    {
      "cell_type": "code",
      "metadata": {
        "colab": {
          "base_uri": "https://localhost:8080/",
          "height": 222
        },
        "id": "IzwHkmNoQ5Oo",
        "outputId": "b6583b3a-fdeb-433c-86b0-dab14ee4c453"
      },
      "source": [
        "spark"
      ],
      "execution_count": null,
      "outputs": [
        {
          "output_type": "execute_result",
          "data": {
            "text/plain": [
              "<pyspark.sql.session.SparkSession at 0x7fef27d49580>"
            ],
            "text/html": [
              "\n",
              "            <div>\n",
              "                <p><b>SparkSession - in-memory</b></p>\n",
              "                \n",
              "        <div>\n",
              "            <p><b>SparkContext</b></p>\n",
              "\n",
              "            <p><a href=\"http://e22ac9fb0a0c:4040\">Spark UI</a></p>\n",
              "\n",
              "            <dl>\n",
              "              <dt>Version</dt>\n",
              "                <dd><code>v3.3.1</code></dd>\n",
              "              <dt>Master</dt>\n",
              "                <dd><code>local[*]</code></dd>\n",
              "              <dt>AppName</dt>\n",
              "                <dd><code>pyspark-shell</code></dd>\n",
              "            </dl>\n",
              "        </div>\n",
              "        \n",
              "            </div>\n",
              "        "
            ]
          },
          "metadata": {},
          "execution_count": 48
        }
      ]
    },
    {
      "cell_type": "markdown",
      "metadata": {
        "id": "fcfknDB6Q5Op"
      },
      "source": [
        "## Creating PySpark DataFrame from RDD"
      ]
    },
    {
      "cell_type": "markdown",
      "metadata": {
        "id": "BX5q2jXKQ5Op"
      },
      "source": [
        "Spark SQL which is a Spark module for structured data processing provides a programming abstraction called DataFrames and can also act as a distributed SQL query engine. In the following example, we create rdd from list then we create PySpark dataframe using SparkSession's createDataFrame method. When we look at the type of dataframe, we can see pyspark.sql.dataframe as an output. Furthermore, we can use show method to print out the dataframe."
      ]
    },
    {
      "cell_type": "code",
      "metadata": {
        "colab": {
          "base_uri": "https://localhost:8080/"
        },
        "id": "vewSLEE5Q5Op",
        "outputId": "5d6653ea-35df-4080-efd0-e300add1a7e2"
      },
      "source": [
        "# Create a PySpark Dataframe from rdd\n",
        "sample_list = [ (\"Mona\", 23), (\"Lisa\", 29), ('Leonardo',37), ('Piero',41)]\n",
        "rdd = sc.parallelize(sample_list) # convierte a RDD\n",
        "df_names = spark.createDataFrame(rdd, schema=['Name', 'Age'])\n",
        "type(df_names)"
      ],
      "execution_count": null,
      "outputs": [
        {
          "output_type": "execute_result",
          "data": {
            "text/plain": [
              "pyspark.sql.dataframe.DataFrame"
            ]
          },
          "metadata": {},
          "execution_count": 49
        }
      ]
    },
    {
      "cell_type": "code",
      "metadata": {
        "colab": {
          "base_uri": "https://localhost:8080/"
        },
        "id": "_q19h0TPQ5Op",
        "outputId": "733c3f08-5eb0-4bcd-d4b1-98b58847d2d7"
      },
      "source": [
        "df_names.show()"
      ],
      "execution_count": null,
      "outputs": [
        {
          "output_type": "stream",
          "name": "stdout",
          "text": [
            "+--------+---+\n",
            "|    Name|Age|\n",
            "+--------+---+\n",
            "|    Mona| 23|\n",
            "|    Lisa| 29|\n",
            "|Leonardo| 37|\n",
            "|   Piero| 41|\n",
            "+--------+---+\n",
            "\n"
          ]
        }
      ]
    },
    {
      "cell_type": "code",
      "metadata": {
        "colab": {
          "base_uri": "https://localhost:8080/"
        },
        "id": "tZQFWmNLitl7",
        "outputId": "d0af124e-be6f-4abe-92a6-565c4b4b1e3a"
      },
      "source": [
        "columns=[\"Nombre\",\"Edad\"]\n",
        "SDF=rdd.toDF(columns)\n",
        "SDF.show()\n",
        "type(SDF)"
      ],
      "execution_count": null,
      "outputs": [
        {
          "output_type": "stream",
          "name": "stdout",
          "text": [
            "+--------+----+\n",
            "|  Nombre|Edad|\n",
            "+--------+----+\n",
            "|    Mona|  23|\n",
            "|    Lisa|  29|\n",
            "|Leonardo|  37|\n",
            "|   Piero|  41|\n",
            "+--------+----+\n",
            "\n"
          ]
        },
        {
          "output_type": "execute_result",
          "data": {
            "text/plain": [
              "pyspark.sql.dataframe.DataFrame"
            ]
          },
          "metadata": {},
          "execution_count": 51
        }
      ]
    },
    {
      "cell_type": "code",
      "metadata": {
        "colab": {
          "base_uri": "https://localhost:8080/"
        },
        "id": "ZpUqHg1TTkQP",
        "outputId": "67685e5a-67f4-445d-d43d-c34b7f7e2fa7"
      },
      "source": [
        "df_names.rdd.take(2)"
      ],
      "execution_count": null,
      "outputs": [
        {
          "output_type": "execute_result",
          "data": {
            "text/plain": [
              "[Row(Name='Mona', Age=23), Row(Name='Lisa', Age=29)]"
            ]
          },
          "metadata": {},
          "execution_count": 52
        }
      ]
    },
    {
      "cell_type": "code",
      "metadata": {
        "id": "Dh4EySSHlALM",
        "colab": {
          "base_uri": "https://localhost:8080/"
        },
        "outputId": "99f62a97-3c45-4b38-cf45-0a5d7c4b1755"
      },
      "source": [
        "df_names.rdd.getNumPartitions()"
      ],
      "execution_count": null,
      "outputs": [
        {
          "output_type": "execute_result",
          "data": {
            "text/plain": [
              "2"
            ]
          },
          "metadata": {},
          "execution_count": 53
        }
      ]
    },
    {
      "cell_type": "markdown",
      "metadata": {
        "id": "EjIIXLnlQ5Oq"
      },
      "source": [
        "## Add Datasets"
      ]
    },
    {
      "cell_type": "code",
      "metadata": {
        "id": "E6_6ATXIF3Ni"
      },
      "source": [
        "path_people=\"/content/people.csv\""
      ],
      "execution_count": null,
      "outputs": []
    },
    {
      "cell_type": "code",
      "metadata": {
        "id": "8FTugQCiYfR3",
        "colab": {
          "base_uri": "https://localhost:8080/"
        },
        "outputId": "e26e3dbf-f091-48c8-b9b4-79e2fb7ce56e"
      },
      "source": [
        "df_data_1 = spark.read.csv(path_people,header=True,inferSchema=True)\n",
        "df_data_1.show(10)"
      ],
      "execution_count": null,
      "outputs": [
        {
          "output_type": "stream",
          "name": "stdout",
          "text": [
            "+---+---------+----------------+------+-------------------+\n",
            "|_c0|person_id|            name|   sex|      date of birth|\n",
            "+---+---------+----------------+------+-------------------+\n",
            "|  0|      100|  Penelope Lewis|female|1990-08-31 00:00:00|\n",
            "|  1|      101|   David Anthony|  male|1971-10-14 00:00:00|\n",
            "|  2|      102|       Ida Shipp|female|1962-05-24 00:00:00|\n",
            "|  3|      103|    Joanna Moore|female|2017-03-10 00:00:00|\n",
            "|  4|      104|  Lisandra Ortiz|female|2020-08-05 00:00:00|\n",
            "|  5|      105|   David Simmons|  male|1999-12-30 00:00:00|\n",
            "|  6|      106|   Edward Hudson|  male|1983-05-09 00:00:00|\n",
            "|  7|      107|    Albert Jones|  male|1990-09-13 00:00:00|\n",
            "|  8|      108|Leonard Cavender|  male|1958-08-08 00:00:00|\n",
            "|  9|      109|  Everett Vadala|  male|2005-05-24 00:00:00|\n",
            "+---+---------+----------------+------+-------------------+\n",
            "only showing top 10 rows\n",
            "\n"
          ]
        }
      ]
    },
    {
      "cell_type": "code",
      "metadata": {
        "id": "PwvkVDegQ5Oq",
        "colab": {
          "base_uri": "https://localhost:8080/"
        },
        "outputId": "97ad4797-b4b7-441b-d2f5-dd32aca7cc72"
      },
      "source": [
        "df_data_1.show(5)"
      ],
      "execution_count": null,
      "outputs": [
        {
          "output_type": "stream",
          "name": "stdout",
          "text": [
            "+---+---------+--------------+------+-------------------+\n",
            "|_c0|person_id|          name|   sex|      date of birth|\n",
            "+---+---------+--------------+------+-------------------+\n",
            "|  0|      100|Penelope Lewis|female|1990-08-31 00:00:00|\n",
            "|  1|      101| David Anthony|  male|1971-10-14 00:00:00|\n",
            "|  2|      102|     Ida Shipp|female|1962-05-24 00:00:00|\n",
            "|  3|      103|  Joanna Moore|female|2017-03-10 00:00:00|\n",
            "|  4|      104|Lisandra Ortiz|female|2020-08-05 00:00:00|\n",
            "+---+---------+--------------+------+-------------------+\n",
            "only showing top 5 rows\n",
            "\n"
          ]
        }
      ]
    },
    {
      "cell_type": "code",
      "metadata": {
        "id": "W8O3KJR6xOuw",
        "colab": {
          "base_uri": "https://localhost:8080/"
        },
        "outputId": "5d52e421-8158-4e5a-c138-6ac662467de7"
      },
      "source": [
        "df_data_1.rdd.take(5)"
      ],
      "execution_count": null,
      "outputs": [
        {
          "output_type": "execute_result",
          "data": {
            "text/plain": [
              "[Row(_c0=0, person_id=100, name='Penelope Lewis', sex='female', date of birth=datetime.datetime(1990, 8, 31, 0, 0)),\n",
              " Row(_c0=1, person_id=101, name='David Anthony', sex='male', date of birth=datetime.datetime(1971, 10, 14, 0, 0)),\n",
              " Row(_c0=2, person_id=102, name='Ida Shipp', sex='female', date of birth=datetime.datetime(1962, 5, 24, 0, 0)),\n",
              " Row(_c0=3, person_id=103, name='Joanna Moore', sex='female', date of birth=datetime.datetime(2017, 3, 10, 0, 0)),\n",
              " Row(_c0=4, person_id=104, name='Lisandra Ortiz', sex='female', date of birth=datetime.datetime(2020, 8, 5, 0, 0))]"
            ]
          },
          "metadata": {},
          "execution_count": 57
        }
      ]
    },
    {
      "cell_type": "code",
      "metadata": {
        "id": "CRgkZgEDxa_P",
        "colab": {
          "base_uri": "https://localhost:8080/"
        },
        "outputId": "520c73af-2728-4650-9ac7-d5c71f0a2cf8"
      },
      "source": [
        "df_data_1.printSchema()"
      ],
      "execution_count": null,
      "outputs": [
        {
          "output_type": "stream",
          "name": "stdout",
          "text": [
            "root\n",
            " |-- _c0: integer (nullable = true)\n",
            " |-- person_id: integer (nullable = true)\n",
            " |-- name: string (nullable = true)\n",
            " |-- sex: string (nullable = true)\n",
            " |-- date of birth: timestamp (nullable = true)\n",
            "\n"
          ]
        }
      ]
    },
    {
      "cell_type": "markdown",
      "metadata": {
        "id": "jHBTFdv-Y78W"
      },
      "source": [
        "You can also add 5000_points.txt dataset by applying same procedure but click insert to code then click insert credentials then write \"file\" and \"bucket\" values inside \"path_5000 = cos.url('file_name', 'bucket_name')\" expression and comment out path_5000."
      ]
    },
    {
      "cell_type": "code",
      "metadata": {
        "id": "-5-XG0jwY4pX"
      },
      "source": [
        "path_5000 = \"/content/5000_points.txt\"\n",
        "df_people = spark.sparkContext.textFile(path_5000)\n"
      ],
      "execution_count": null,
      "outputs": []
    },
    {
      "cell_type": "markdown",
      "metadata": {
        "id": "eCsBM-v7Q5Or"
      },
      "source": [
        "## Create PySpark DataFrame from external file"
      ]
    },
    {
      "cell_type": "markdown",
      "metadata": {
        "id": "1tRtQd9lQ5Os"
      },
      "source": [
        "We can create PySpark DataFrame by using SparkSession's read.csv method. To do this, we should give path of csv file as an argument to the method. Show action prints first 20 rows of DataFrame. Count action prints number of rows in DataFrame. Columns attribute prints the list of columns in DataFrame. PrintSchema action prints the types of columns in the Dataframe and it gives information about whether there is null values in columns or not."
      ]
    },
    {
      "cell_type": "code",
      "metadata": {
        "id": "vAGLc7iBQ5Os"
      },
      "source": [
        "df_people = spark.read.csv(path_people, header=True, inferSchema=True)"
      ],
      "execution_count": null,
      "outputs": []
    },
    {
      "cell_type": "code",
      "metadata": {
        "id": "9Ep3ByLOQ5Os",
        "colab": {
          "base_uri": "https://localhost:8080/"
        },
        "outputId": "b906dea3-17b9-496a-e51c-69c3f181a323"
      },
      "source": [
        "df_people.show(10)"
      ],
      "execution_count": null,
      "outputs": [
        {
          "output_type": "stream",
          "name": "stdout",
          "text": [
            "+---+---------+----------------+------+-------------------+\n",
            "|_c0|person_id|            name|   sex|      date of birth|\n",
            "+---+---------+----------------+------+-------------------+\n",
            "|  0|      100|  Penelope Lewis|female|1990-08-31 00:00:00|\n",
            "|  1|      101|   David Anthony|  male|1971-10-14 00:00:00|\n",
            "|  2|      102|       Ida Shipp|female|1962-05-24 00:00:00|\n",
            "|  3|      103|    Joanna Moore|female|2017-03-10 00:00:00|\n",
            "|  4|      104|  Lisandra Ortiz|female|2020-08-05 00:00:00|\n",
            "|  5|      105|   David Simmons|  male|1999-12-30 00:00:00|\n",
            "|  6|      106|   Edward Hudson|  male|1983-05-09 00:00:00|\n",
            "|  7|      107|    Albert Jones|  male|1990-09-13 00:00:00|\n",
            "|  8|      108|Leonard Cavender|  male|1958-08-08 00:00:00|\n",
            "|  9|      109|  Everett Vadala|  male|2005-05-24 00:00:00|\n",
            "+---+---------+----------------+------+-------------------+\n",
            "only showing top 10 rows\n",
            "\n"
          ]
        }
      ]
    },
    {
      "cell_type": "code",
      "metadata": {
        "colab": {
          "base_uri": "https://localhost:8080/"
        },
        "id": "wh9EhFiZQ5Os",
        "outputId": "179c10fb-b731-4c97-9cf2-ed9ec4aa8336"
      },
      "source": [
        "df_people.count()"
      ],
      "execution_count": null,
      "outputs": [
        {
          "output_type": "execute_result",
          "data": {
            "text/plain": [
              "100000"
            ]
          },
          "metadata": {},
          "execution_count": 64
        }
      ]
    },
    {
      "cell_type": "code",
      "metadata": {
        "colab": {
          "base_uri": "https://localhost:8080/"
        },
        "id": "80zfiT-_GN1z",
        "outputId": "34367ce9-7e64-4bbc-c066-f7461d26fc05"
      },
      "source": [
        "print(len(df_people.columns))"
      ],
      "execution_count": null,
      "outputs": [
        {
          "output_type": "stream",
          "name": "stdout",
          "text": [
            "5\n"
          ]
        }
      ]
    },
    {
      "cell_type": "code",
      "metadata": {
        "colab": {
          "base_uri": "https://localhost:8080/"
        },
        "id": "wnH4_nDCQ5Os",
        "outputId": "685e69ff-564b-487c-834e-d9d5aa666be3"
      },
      "source": [
        "df_people.columns"
      ],
      "execution_count": null,
      "outputs": [
        {
          "output_type": "execute_result",
          "data": {
            "text/plain": [
              "['_c0', 'person_id', 'name', 'sex', 'date of birth']"
            ]
          },
          "metadata": {},
          "execution_count": 66
        }
      ]
    },
    {
      "cell_type": "code",
      "metadata": {
        "id": "0FOQ9uiyQ5Ot",
        "colab": {
          "base_uri": "https://localhost:8080/"
        },
        "outputId": "fee75c4c-b2e4-49af-a9a6-ad8bd83d3a6b"
      },
      "source": [
        "df_people.printSchema()"
      ],
      "execution_count": null,
      "outputs": [
        {
          "output_type": "stream",
          "name": "stdout",
          "text": [
            "root\n",
            " |-- _c0: integer (nullable = true)\n",
            " |-- person_id: integer (nullable = true)\n",
            " |-- name: string (nullable = true)\n",
            " |-- sex: string (nullable = true)\n",
            " |-- date of birth: timestamp (nullable = true)\n",
            "\n"
          ]
        }
      ]
    },
    {
      "cell_type": "code",
      "metadata": {
        "colab": {
          "base_uri": "https://localhost:8080/"
        },
        "id": "rB8ThIChI7yG",
        "outputId": "65b4e8ab-a198-498a-ae6d-c5ac1920f263"
      },
      "source": [
        "df_people.drop(\"name\",\"date of birth\").printSchema()"
      ],
      "execution_count": null,
      "outputs": [
        {
          "output_type": "stream",
          "name": "stdout",
          "text": [
            "root\n",
            " |-- _c0: integer (nullable = true)\n",
            " |-- person_id: integer (nullable = true)\n",
            " |-- sex: string (nullable = true)\n",
            "\n"
          ]
        }
      ]
    },
    {
      "cell_type": "markdown",
      "metadata": {
        "id": "vhTTyOvxQ5Ot"
      },
      "source": [
        "We can use select method to select some columns of DataFrame. If we give argument to show method, it prints out rows as number of argument. In the following example it prints out 10 rows. dropDuplicates method removes the duplicate rows of a DataFrame. We can use count action to see how many rows are dropped."
      ]
    },
    {
      "cell_type": "code",
      "metadata": {
        "id": "5orJw3V_Q5Ot"
      },
      "source": [
        "df_people_sub = df_people.select('name', \"sex\", 'date of birth')"
      ],
      "execution_count": null,
      "outputs": []
    },
    {
      "cell_type": "code",
      "metadata": {
        "id": "dqRkCN--Q5Ou",
        "colab": {
          "base_uri": "https://localhost:8080/"
        },
        "outputId": "465ec060-bd57-470f-f0ce-3b6eaff26254"
      },
      "source": [
        "df_people_sub.show(10)"
      ],
      "execution_count": null,
      "outputs": [
        {
          "output_type": "stream",
          "name": "stdout",
          "text": [
            "+----------------+------+-------------------+\n",
            "|            name|   sex|      date of birth|\n",
            "+----------------+------+-------------------+\n",
            "|  Penelope Lewis|female|1990-08-31 00:00:00|\n",
            "|   David Anthony|  male|1971-10-14 00:00:00|\n",
            "|       Ida Shipp|female|1962-05-24 00:00:00|\n",
            "|    Joanna Moore|female|2017-03-10 00:00:00|\n",
            "|  Lisandra Ortiz|female|2020-08-05 00:00:00|\n",
            "|   David Simmons|  male|1999-12-30 00:00:00|\n",
            "|   Edward Hudson|  male|1983-05-09 00:00:00|\n",
            "|    Albert Jones|  male|1990-09-13 00:00:00|\n",
            "|Leonard Cavender|  male|1958-08-08 00:00:00|\n",
            "|  Everett Vadala|  male|2005-05-24 00:00:00|\n",
            "+----------------+------+-------------------+\n",
            "only showing top 10 rows\n",
            "\n"
          ]
        }
      ]
    },
    {
      "cell_type": "code",
      "metadata": {
        "id": "HLuuboRlQ5Ou"
      },
      "source": [
        "df_people_sub_nodup = df_people_sub.dropDuplicates()"
      ],
      "execution_count": null,
      "outputs": []
    },
    {
      "cell_type": "code",
      "metadata": {
        "id": "jElA3V76Q5Ou",
        "outputId": "6b21bc9f-4e61-41c0-e729-5fda48d7c511",
        "colab": {
          "base_uri": "https://localhost:8080/"
        }
      },
      "source": [
        "print(\"Before removing duplicates:\", df_people_sub.count())\n",
        "print(\"After removing duplicates:\", df_people_sub_nodup.count())"
      ],
      "execution_count": null,
      "outputs": [
        {
          "output_type": "stream",
          "name": "stdout",
          "text": [
            "Before removing duplicates: 100000\n",
            "After removing duplicates: 99998\n"
          ]
        }
      ]
    },
    {
      "cell_type": "markdown",
      "metadata": {
        "id": "I5Om62oaQ5Ov"
      },
      "source": [
        "We can filter out the rows based on a condition by using filter transformation as in the following example."
      ]
    },
    {
      "cell_type": "code",
      "metadata": {
        "id": "dAnB37bLQ5Ov"
      },
      "source": [
        "df_people_female = df_people.filter(df_people.sex == \"female\")\n",
        "df_people_male = df_people.filter(df_people.sex == \"male\")"
      ],
      "execution_count": null,
      "outputs": []
    },
    {
      "cell_type": "code",
      "metadata": {
        "id": "GGuRzMmCQ5Ov",
        "colab": {
          "base_uri": "https://localhost:8080/"
        },
        "outputId": "e53c7808-891e-4262-818e-60d4f6d3eeb2"
      },
      "source": [
        "df_people_female.count()"
      ],
      "execution_count": null,
      "outputs": [
        {
          "output_type": "execute_result",
          "data": {
            "text/plain": [
              "49014"
            ]
          },
          "metadata": {},
          "execution_count": 75
        }
      ]
    },
    {
      "cell_type": "code",
      "metadata": {
        "id": "t-X14P8AQ5Ov",
        "colab": {
          "base_uri": "https://localhost:8080/"
        },
        "outputId": "50f7824f-d6e5-4f92-922b-c155268a2e34"
      },
      "source": [
        "df_people_female.show(5)"
      ],
      "execution_count": null,
      "outputs": [
        {
          "output_type": "stream",
          "name": "stdout",
          "text": [
            "+---+---------+-----------------+------+-------------------+\n",
            "|_c0|person_id|             name|   sex|      date of birth|\n",
            "+---+---------+-----------------+------+-------------------+\n",
            "|  0|      100|   Penelope Lewis|female|1990-08-31 00:00:00|\n",
            "|  2|      102|        Ida Shipp|female|1962-05-24 00:00:00|\n",
            "|  3|      103|     Joanna Moore|female|2017-03-10 00:00:00|\n",
            "|  4|      104|   Lisandra Ortiz|female|2020-08-05 00:00:00|\n",
            "| 11|      111|Annabelle Rosseau|female|1989-07-13 00:00:00|\n",
            "+---+---------+-----------------+------+-------------------+\n",
            "only showing top 5 rows\n",
            "\n"
          ]
        }
      ]
    },
    {
      "cell_type": "markdown",
      "metadata": {
        "id": "XTOVc5XwQ5Ov"
      },
      "source": [
        "We can group columns based on their values by using groupby transformation as in the following example."
      ]
    },
    {
      "cell_type": "code",
      "metadata": {
        "id": "9FJBBFdTQ5Ov",
        "colab": {
          "base_uri": "https://localhost:8080/"
        },
        "outputId": "d9370bb5-59fb-40a1-e759-8a0284e6952a"
      },
      "source": [
        "df_people_sex = df_people.groupby(\"sex\")\n",
        "df_people_sex.count().show()"
      ],
      "execution_count": null,
      "outputs": [
        {
          "output_type": "stream",
          "name": "stdout",
          "text": [
            "+------+-----+\n",
            "|   sex|count|\n",
            "+------+-----+\n",
            "|  null| 1920|\n",
            "|female|49014|\n",
            "|  male|49066|\n",
            "+------+-----+\n",
            "\n"
          ]
        }
      ]
    },
    {
      "cell_type": "markdown",
      "metadata": {
        "id": "AO5yjPYbQ5Ov"
      },
      "source": [
        "We can sorts the DataFrame based on one or more columns by using orderBy transformation."
      ]
    },
    {
      "cell_type": "code",
      "metadata": {
        "id": "4cFqDNiKQ5Ov",
        "colab": {
          "base_uri": "https://localhost:8080/"
        },
        "outputId": "f3d5a8ea-c8df-42b9-fb3e-b25b8d4fdac6"
      },
      "source": [
        "df_people.orderBy(\"date of birth\").show(3)"
      ],
      "execution_count": null,
      "outputs": [
        {
          "output_type": "stream",
          "name": "stdout",
          "text": [
            "+-----+---------+---------------+------+-------------------+\n",
            "|  _c0|person_id|           name|   sex|      date of birth|\n",
            "+-----+---------+---------------+------+-------------------+\n",
            "|57359|    57459|   Sharon Perez|female|1899-08-28 00:00:00|\n",
            "|62233|    62333|Martina Morison|female|1901-04-21 00:00:00|\n",
            "|96318|    96418|   Lisa Garrett|female|1901-05-09 00:00:00|\n",
            "+-----+---------+---------------+------+-------------------+\n",
            "only showing top 3 rows\n",
            "\n"
          ]
        }
      ]
    },
    {
      "cell_type": "markdown",
      "metadata": {
        "id": "fpnFji5rQ5Ow"
      },
      "source": [
        "We can rename a column in DataFrame by using withColumnRenamed transformation."
      ]
    },
    {
      "cell_type": "code",
      "metadata": {
        "id": "oRqiGCwDQ5Ow",
        "colab": {
          "base_uri": "https://localhost:8080/"
        },
        "outputId": "678b38db-92ac-4bf2-b9f2-111227fad059"
      },
      "source": [
        "df_people = df_people.withColumnRenamed(\"date of birth\", \"birth\")\n",
        "df_people.show(3)"
      ],
      "execution_count": null,
      "outputs": [
        {
          "output_type": "stream",
          "name": "stdout",
          "text": [
            "+---+---------+--------------+------+-------------------+\n",
            "|_c0|person_id|          name|   sex|              birth|\n",
            "+---+---------+--------------+------+-------------------+\n",
            "|  0|      100|Penelope Lewis|female|1990-08-31 00:00:00|\n",
            "|  1|      101| David Anthony|  male|1971-10-14 00:00:00|\n",
            "|  2|      102|     Ida Shipp|female|1962-05-24 00:00:00|\n",
            "+---+---------+--------------+------+-------------------+\n",
            "only showing top 3 rows\n",
            "\n"
          ]
        }
      ]
    },
    {
      "cell_type": "markdown",
      "metadata": {
        "id": "GzBXUlIKQ5Ow"
      },
      "source": [
        "## Using SQL queries with DataFrames by using Spark SQL module"
      ]
    },
    {
      "cell_type": "markdown",
      "metadata": {
        "id": "R1iqeIQkQ5Ow"
      },
      "source": [
        "We can also use SQL queries to achieve the same things with DataFrames. Firstly, we should create temporary table by using createOrReplaceTempView method. We should give the name of temporary table as an argument to the method. Then, we can give any query we want to execute to SparkSession's sql method as an argument. Look at the following example."
      ]
    },
    {
      "cell_type": "code",
      "metadata": {
        "id": "DhpDrhmoGXzh"
      },
      "source": [
        "path_people=\"/content/people.csv\"\n",
        "df_people = spark.read.csv(path_people, header=True, inferSchema=True)\n",
        "df_people = df_people.withColumnRenamed(\"date of birth\", \"birth\")\n",
        "df_people.createOrReplaceTempView(\"people\")"
      ],
      "execution_count": null,
      "outputs": []
    },
    {
      "cell_type": "code",
      "metadata": {
        "colab": {
          "base_uri": "https://localhost:8080/"
        },
        "id": "Ye_mUHgHGcQx",
        "outputId": "7d1c5fff-d094-4b43-c20a-58e19701ecd3"
      },
      "source": [
        "query='DESCRIBE people'\n",
        "spark.sql(query).show(10)"
      ],
      "execution_count": null,
      "outputs": [
        {
          "output_type": "stream",
          "name": "stdout",
          "text": [
            "+---------+---------+-------+\n",
            "| col_name|data_type|comment|\n",
            "+---------+---------+-------+\n",
            "|      _c0|      int|   null|\n",
            "|person_id|      int|   null|\n",
            "|     name|   string|   null|\n",
            "|      sex|   string|   null|\n",
            "|    birth|timestamp|   null|\n",
            "+---------+---------+-------+\n",
            "\n"
          ]
        }
      ]
    },
    {
      "cell_type": "code",
      "metadata": {
        "id": "xjH-RSs7Q5Ow",
        "colab": {
          "base_uri": "https://localhost:8080/"
        },
        "outputId": "c310644a-546d-4aff-c8e6-8c90c4275147"
      },
      "source": [
        "query=\"\"\"SELECT name, birth FROM people WHERE sex==\"male\" ORDER BY `birth`\"\"\"\n",
        "\n",
        "df_people_names = spark.sql(query)\n",
        "df_people_names.show(10)"
      ],
      "execution_count": null,
      "outputs": [
        {
          "output_type": "stream",
          "name": "stdout",
          "text": [
            "+---------------+-------------------+\n",
            "|           name|              birth|\n",
            "+---------------+-------------------+\n",
            "|   Tyler Walton|1903-07-14 00:00:00|\n",
            "|  Daniel Naiman|1903-11-07 00:00:00|\n",
            "|   John Merritt|1906-11-04 00:00:00|\n",
            "|   Roger Watkin|1907-12-08 00:00:00|\n",
            "|     Tim Makris|1909-07-11 00:00:00|\n",
            "|    Jeremy Jost|1910-04-14 00:00:00|\n",
            "|  Fredrick Nass|1911-01-12 00:00:00|\n",
            "|     Shaun King|1911-03-27 00:00:00|\n",
            "|Mitchell Martin|1911-07-06 00:00:00|\n",
            "|   Daniel Rutan|1911-08-09 00:00:00|\n",
            "+---------------+-------------------+\n",
            "only showing top 10 rows\n",
            "\n"
          ]
        }
      ]
    },
    {
      "cell_type": "code",
      "metadata": {
        "colab": {
          "base_uri": "https://localhost:8080/"
        },
        "id": "RaOX-H0yIu7E",
        "outputId": "eaaec4e5-3c3c-417d-853c-3162959ec5d4"
      },
      "source": [
        "query='SELECT name, `birth` FROM people WHERE `birth` BETWEEN \"1903-01-01\" AND \"1911-12-31\" ORDER BY `birth`'\n",
        "\n",
        "df_people_1903_1906 = spark.sql(query)\n",
        "df_people_1903_1906.show(10)"
      ],
      "execution_count": null,
      "outputs": [
        {
          "output_type": "stream",
          "name": "stdout",
          "text": [
            "+---------------+-------------------+\n",
            "|           name|              birth|\n",
            "+---------------+-------------------+\n",
            "|   Tyler Walton|1903-07-14 00:00:00|\n",
            "|  Daniel Naiman|1903-11-07 00:00:00|\n",
            "| Christy Dawson|1904-01-11 00:00:00|\n",
            "|   John Merritt|1906-11-04 00:00:00|\n",
            "|   Roger Watkin|1907-12-08 00:00:00|\n",
            "|   Marie Givens|1908-02-15 00:00:00|\n",
            "|Maribel Donahoe|1908-11-27 00:00:00|\n",
            "|    Paula Evans|1909-02-10 00:00:00|\n",
            "|     Tim Makris|1909-07-11 00:00:00|\n",
            "|   Joyce Jacoby|1909-09-13 00:00:00|\n",
            "+---------------+-------------------+\n",
            "only showing top 10 rows\n",
            "\n"
          ]
        }
      ]
    },
    {
      "cell_type": "code",
      "metadata": {
        "colab": {
          "base_uri": "https://localhost:8080/"
        },
        "id": "VL0AiYLkViqf",
        "outputId": "3c23b4d9-5730-4cd3-ac2d-f718988e1248"
      },
      "source": [
        "query='SELECT sex,COUNT(sex) FROM people WHERE birth BETWEEN \"1903-01-01\" AND \"1911-12-31\" GROUP BY sex'\n",
        "df_people_1903_1906_sex = spark.sql(query)\n",
        "df_people_1903_1906_sex.show()"
      ],
      "execution_count": null,
      "outputs": [
        {
          "output_type": "stream",
          "name": "stdout",
          "text": [
            "+------+----------+\n",
            "|   sex|count(sex)|\n",
            "+------+----------+\n",
            "|female|         7|\n",
            "|  male|        10|\n",
            "+------+----------+\n",
            "\n"
          ]
        }
      ]
    },
    {
      "cell_type": "markdown",
      "metadata": {
        "id": "7iVFBO2YQ5Ox"
      },
      "source": [
        "## Create RDD from external file"
      ]
    },
    {
      "cell_type": "markdown",
      "metadata": {
        "id": "F7ziWSNrQ5Ox"
      },
      "source": [
        "The second and mostly used way to create RDD is from external dataset. To do this, we can use SparkContext's textFile method. In the following example, we use 5000_points.txt dataset. To do this, we use path to dataset as an argument to textFile method."
      ]
    },
    {
      "cell_type": "code",
      "metadata": {
        "id": "QUfJMdnFQ5Ox",
        "colab": {
          "base_uri": "https://localhost:8080/"
        },
        "outputId": "9c5c0e2d-587f-48e9-cced-a7ec3572ff39"
      },
      "source": [
        "# load the 5000_points dataset into a rdd named clusterRDD\n",
        "clusterRDD = sc.textFile(path_5000)\n",
        "#NOT clusterRDD.show(10)\n",
        "clusterRDD.take(10)"
      ],
      "execution_count": null,
      "outputs": [
        {
          "output_type": "execute_result",
          "data": {
            "text/plain": [
              "['664159\\t550946',\n",
              " '665845\\t557965',\n",
              " '597173\\t575538',\n",
              " '618600\\t551446',\n",
              " '635690\\t608046',\n",
              " '588100\\t557588',\n",
              " '582015\\t546191',\n",
              " '604678\\t574577',\n",
              " '572029\\t518313',\n",
              " '604737\\t574591']"
            ]
          },
          "metadata": {},
          "execution_count": 89
        }
      ]
    },
    {
      "cell_type": "markdown",
      "metadata": {
        "id": "xcFFj_LyQ5Ox"
      },
      "source": [
        "Default number of partition of rdd is two. We can see that using getNumPartitions method. If we want to increase number of partition, we can give minPartitions argument to textFile method."
      ]
    },
    {
      "cell_type": "code",
      "metadata": {
        "id": "pmeqUXIQQ5Oy",
        "colab": {
          "base_uri": "https://localhost:8080/"
        },
        "outputId": "b4977975-8e23-4a9c-951b-8dc53e9b4756"
      },
      "source": [
        "clusterRDD.getNumPartitions()"
      ],
      "execution_count": null,
      "outputs": [
        {
          "output_type": "execute_result",
          "data": {
            "text/plain": [
              "2"
            ]
          },
          "metadata": {},
          "execution_count": 90
        }
      ]
    },
    {
      "cell_type": "code",
      "metadata": {
        "id": "XWOGC1S3Q5Oy"
      },
      "source": [
        "clusterRDD = sc.textFile(path_5000,  minPartitions = 5)"
      ],
      "execution_count": null,
      "outputs": []
    },
    {
      "cell_type": "code",
      "metadata": {
        "id": "PL6BHJ3xQ5Oy",
        "colab": {
          "base_uri": "https://localhost:8080/"
        },
        "outputId": "3c23698c-e903-422a-916e-91f29c2bbb7c"
      },
      "source": [
        "clusterRDD.getNumPartitions()"
      ],
      "execution_count": null,
      "outputs": [
        {
          "output_type": "execute_result",
          "data": {
            "text/plain": [
              "5"
            ]
          },
          "metadata": {},
          "execution_count": 92
        }
      ]
    },
    {
      "cell_type": "code",
      "metadata": {
        "id": "hDU2aH7wQ5Oy",
        "colab": {
          "base_uri": "https://localhost:8080/"
        },
        "outputId": "3096c379-719f-45d4-bdf4-dab153e744a8"
      },
      "source": [
        "clusterRDD.take(5)"
      ],
      "execution_count": null,
      "outputs": [
        {
          "output_type": "execute_result",
          "data": {
            "text/plain": [
              "['664159\\t550946',\n",
              " '665845\\t557965',\n",
              " '597173\\t575538',\n",
              " '618600\\t551446',\n",
              " '635690\\t608046']"
            ]
          },
          "metadata": {},
          "execution_count": 93
        }
      ]
    },
    {
      "cell_type": "markdown",
      "metadata": {
        "id": "7UOx5quGQ5Oz"
      },
      "source": [
        "We can transform this rdd by splitting the lines based on the tab."
      ]
    },
    {
      "cell_type": "code",
      "metadata": {
        "id": "8dg3YY9pQ5Oz"
      },
      "source": [
        "rdd_split = clusterRDD.map(lambda x: x.split(\"\\t\"))"
      ],
      "execution_count": null,
      "outputs": []
    },
    {
      "cell_type": "code",
      "metadata": {
        "id": "-PiKSKKgQ5Oz",
        "colab": {
          "base_uri": "https://localhost:8080/"
        },
        "outputId": "14e60bdf-a114-40f0-b67c-a5c47cbfc6ca"
      },
      "source": [
        "rdd_split.take(5)"
      ],
      "execution_count": null,
      "outputs": [
        {
          "output_type": "execute_result",
          "data": {
            "text/plain": [
              "[['664159', '550946'],\n",
              " ['665845', '557965'],\n",
              " ['597173', '575538'],\n",
              " ['618600', '551446'],\n",
              " ['635690', '608046']]"
            ]
          },
          "metadata": {},
          "execution_count": 95
        }
      ]
    },
    {
      "cell_type": "markdown",
      "metadata": {
        "id": "w4gBG93gQ5Oz"
      },
      "source": [
        "We can also further transform the splitted RDD to create a list of integers for the two columns."
      ]
    },
    {
      "cell_type": "code",
      "metadata": {
        "id": "LZuvHp1ZQ5Oz"
      },
      "source": [
        "rdd_split_int = rdd_split.map(lambda x: [int(x[0]), int(x[1])])"
      ],
      "execution_count": null,
      "outputs": []
    },
    {
      "cell_type": "code",
      "metadata": {
        "id": "f5_92g_-Q5Oz",
        "colab": {
          "base_uri": "https://localhost:8080/"
        },
        "outputId": "4a33516d-01d6-4089-d2c7-d12bd178492f"
      },
      "source": [
        "rdd_split_int.take(5)"
      ],
      "execution_count": null,
      "outputs": [
        {
          "output_type": "execute_result",
          "data": {
            "text/plain": [
              "[[664159, 550946],\n",
              " [665845, 557965],\n",
              " [597173, 575538],\n",
              " [618600, 551446],\n",
              " [635690, 608046]]"
            ]
          },
          "metadata": {},
          "execution_count": 97
        }
      ]
    },
    {
      "cell_type": "markdown",
      "metadata": {
        "id": "xoTw_QdGQ5O0"
      },
      "source": [
        "## Machine Learning with PySpark MLlib"
      ]
    },
    {
      "cell_type": "markdown",
      "metadata": {
        "id": "I5kku0vdQ5O0"
      },
      "source": [
        "PySpark MLlib is the Apache Spark's scalable machine learning library in Python consisting of common learning algorithms and utilities. We use Kmeans algorithm of MLlib library to cluster data in 5000_points.txt dataset. First, we should define error method to calculate distance from every point to center of its clusters which the points belong to."
      ]
    },
    {
      "cell_type": "code",
      "metadata": {
        "id": "uC_B5jKDQ5O0"
      },
      "source": [
        "def error(point):\n",
        "    center = model.centers[model.predict(point)]\n",
        "    return sqrt(sum([x**2 for x in (point - center)]))"
      ],
      "execution_count": null,
      "outputs": []
    },
    {
      "cell_type": "markdown",
      "metadata": {
        "id": "EwUTqvRXQ5O0"
      },
      "source": [
        "We train the model with 4 different number of clusters from 13 to 16 and then calculate the error for all of them. As you see in the output, 16 clusters give minimum error. We retrain the model with the number of cluster with the smallest error. We then use clusterCenters attribute to see the center of all clusters."
      ]
    },
    {
      "cell_type": "code",
      "metadata": {
        "id": "03_qaHTvQ5O0",
        "colab": {
          "base_uri": "https://localhost:8080/"
        },
        "outputId": "47fdfef9-9d03-4aba-c618-718a27765bd7"
      },
      "source": [
        "from math import sqrt\n",
        "from pyspark.mllib.clustering import KMeans\n",
        "# Train the model with clusters from 13 to 16 and compute SSE\n",
        "temp = 0\n",
        "cluster = 0\n",
        "for clst in range(13, 17):\n",
        "    model = KMeans.train(rdd_split_int, clst, seed=1)\n",
        "    SSE = rdd_split_int.map(lambda point: error(point)).reduce(lambda x, y: x + y)\n",
        "    while temp > SSE or temp == 0:\n",
        "        temp = SSE\n",
        "        cluster = clst\n",
        "    print(\"The cluster\", clst, \"has Sum of Squared Error\", SSE)\n",
        "\n",
        "\n",
        "print(\"\\ncluster\", cluster)\n",
        "print(\"SSE:\", temp)\n",
        "\n",
        "\n",
        "# Train the model again with the best k\n",
        "model = KMeans.train(rdd_split_int, k=cluster, seed=1)\n",
        "\n",
        "# Get cluster centers\n",
        "cluster_centers = model.clusterCenters"
      ],
      "execution_count": null,
      "outputs": [
        {
          "output_type": "stream",
          "name": "stdout",
          "text": [
            "The cluster 13 has Sum of Squared Error 251839908.5434932\n",
            "The cluster 14 has Sum of Squared Error 211629260.76746103\n",
            "The cluster 15 has Sum of Squared Error 169394691.52639443\n",
            "The cluster 16 has Sum of Squared Error 167648251.99743205\n",
            "\n",
            "cluster 16\n",
            "SSE: 167648251.99743205\n"
          ]
        }
      ]
    },
    {
      "cell_type": "markdown",
      "metadata": {
        "id": "T8E_W9aSQ5O0"
      },
      "source": [
        "We can again use SparkSession's createDataFrame method to create DataFrame from rdd. We must convert PySpark DataFrame to Pandas DataFrame in order to visualise data. To do this, we can use toPandas method. We create another Pandas DataFrame from cluster centers list. Then, using matplotlib's scatter method, we can make plot for clusters and their centers."
      ]
    },
    {
      "cell_type": "code",
      "metadata": {
        "id": "FEjUjUPlQ5O1",
        "colab": {
          "base_uri": "https://localhost:8080/",
          "height": 371
        },
        "outputId": "f9bbb36f-c83a-490b-8327-61a6ad5f40c5"
      },
      "source": [
        "rdd_split_int_df = spark.createDataFrame(rdd_split_int, schema=[\"col1\", \"col2\"])\n",
        "\n",
        "rdd_split_int_df_pandas = rdd_split_int_df.toPandas()\n",
        "\n",
        "cluster_centers_pandas = pd.DataFrame(cluster_centers, columns=[\"col1\", \"col2\"])\n",
        "\n",
        "plt.scatter(rdd_split_int_df_pandas[\"col1\"], rdd_split_int_df_pandas[\"col2\"])\n",
        "plt.scatter(cluster_centers_pandas[\"col1\"], cluster_centers_pandas[\"col2\"], color=\"red\", marker=\"x\")\n",
        "plt.show()"
      ],
      "execution_count": null,
      "outputs": [
        {
          "output_type": "display_data",
          "data": {
            "text/plain": [
              "<Figure size 576x396 with 1 Axes>"
            ],
            "image/png": "[encoded data removed]"
          },
          "metadata": {}
        }
      ]
    },
    {
      "cell_type": "markdown",
      "metadata": {
        "id": "fnpvifOPQ5O1"
      },
      "source": [
        "## Conclusion"
      ]
    },
    {
      "cell_type": "markdown",
      "metadata": {
        "id": "Lgy-Izk6Q5O1"
      },
      "source": [
        "This tutorial discusses Big Data via PySpark, a Python package for spark programming. In this tutorial, I explained SparkContext, using map and filter methods with Lambda functions in Python, creating rdd from object and external file, transformations and actions on rdd and pair rdd, SparkSession, creating PySpark Dataframe from rdd and external file, using sql queries with Dataframes by using Spark SQL module and finally, machine learning with PySpark MLlib library."
      ]
    },
    {
      "cell_type": "code",
      "metadata": {
        "id": "CHbdRzOPQ5O1",
        "outputId": "997e1654-05e4-4a8f-bd72-f8dd8280b165",
        "colab": {
          "base_uri": "https://localhost:8080/",
          "height": 641
        }
      },
      "source": [
        "#Converting between Pandas DF, Spark DF and RDD\n",
        "# load the 5000_points dataset into a rdd named clusterRDD\n",
        "spRDD = sc.textFile(path_5000)\n",
        "#NOT clusterRDD.show(10)\n",
        "spRDD.take(10)\n",
        "# RDD to Spark DataFrame\n",
        "spRDD = spRDD.map(lambda x: x.split(\"\\t\"))\n",
        "spRDD = spRDD.map(lambda x: [int(x[0]), int(x[1])])\n",
        "spRDD.take(10)\n",
        "\n",
        "#Convert to Spark DF\n",
        "sparkDF = spRDD.toDF()\n",
        "sparkDF.show(10)\n",
        "\n",
        "#Convert to Pandas DF\n",
        "pdDF = sparkDF.toPandas()\n",
        "pdDF.head(10)"
      ],
      "execution_count": null,
      "outputs": [
        {
          "output_type": "stream",
          "name": "stdout",
          "text": [
            "+------+------+\n",
            "|    _1|    _2|\n",
            "+------+------+\n",
            "|664159|550946|\n",
            "|665845|557965|\n",
            "|597173|575538|\n",
            "|618600|551446|\n",
            "|635690|608046|\n",
            "|588100|557588|\n",
            "|582015|546191|\n",
            "|604678|574577|\n",
            "|572029|518313|\n",
            "|604737|574591|\n",
            "+------+------+\n",
            "only showing top 10 rows\n",
            "\n"
          ]
        },
        {
          "output_type": "execute_result",
          "data": {
            "text/plain": [
              "       _1      _2\n",
              "0  664159  550946\n",
              "1  665845  557965\n",
              "2  597173  575538\n",
              "3  618600  551446\n",
              "4  635690  608046\n",
              "5  588100  557588\n",
              "6  582015  546191\n",
              "7  604678  574577\n",
              "8  572029  518313\n",
              "9  604737  574591"
            ],
            "text/html": [
              "\n",
              "  <div id=\"df-2a612faa-f2f5-4c30-b88c-25a6dde7c13d\">\n",
              "    <div class=\"colab-df-container\">\n",
              "      <div>\n",
              "<style scoped>\n",
              "    .dataframe tbody tr th:only-of-type {\n",
              "        vertical-align: middle;\n",
              "    }\n",
              "\n",
              "    .dataframe tbody tr th {\n",
              "        vertical-align: top;\n",
              "    }\n",
              "\n",
              "    .dataframe thead th {\n",
              "        text-align: right;\n",
              "    }\n",
              "</style>\n",
              "<table border=\"1\" class=\"dataframe\">\n",
              "  <thead>\n",
              "    <tr style=\"text-align: right;\">\n",
              "      <th></th>\n",
              "      <th>_1</th>\n",
              "      <th>_2</th>\n",
              "    </tr>\n",
              "  </thead>\n",
              "  <tbody>\n",
              "    <tr>\n",
              "      <th>0</th>\n",
              "      <td>664159</td>\n",
              "      <td>550946</td>\n",
              "    </tr>\n",
              "    <tr>\n",
              "      <th>1</th>\n",
              "      <td>665845</td>\n",
              "      <td>557965</td>\n",
              "    </tr>\n",
              "    <tr>\n",
              "      <th>2</th>\n",
              "      <td>597173</td>\n",
              "      <td>575538</td>\n",
              "    </tr>\n",
              "    <tr>\n",
              "      <th>3</th>\n",
              "      <td>618600</td>\n",
              "      <td>551446</td>\n",
              "    </tr>\n",
              "    <tr>\n",
              "      <th>4</th>\n",
              "      <td>635690</td>\n",
              "      <td>608046</td>\n",
              "    </tr>\n",
              "    <tr>\n",
              "      <th>5</th>\n",
              "      <td>588100</td>\n",
              "      <td>557588</td>\n",
              "    </tr>\n",
              "    <tr>\n",
              "      <th>6</th>\n",
              "      <td>582015</td>\n",
              "      <td>546191</td>\n",
              "    </tr>\n",
              "    <tr>\n",
              "      <th>7</th>\n",
              "      <td>604678</td>\n",
              "      <td>574577</td>\n",
              "    </tr>\n",
              "    <tr>\n",
              "      <th>8</th>\n",
              "      <td>572029</td>\n",
              "      <td>518313</td>\n",
              "    </tr>\n",
              "    <tr>\n",
              "      <th>9</th>\n",
              "      <td>604737</td>\n",
              "      <td>574591</td>\n",
              "    </tr>\n",
              "  </tbody>\n",
              "</table>\n",
              "</div>\n",
              "      <button class=\"colab-df-convert\" onclick=\"convertToInteractive('df-2a612faa-f2f5-4c30-b88c-25a6dde7c13d')\"\n",
              "              title=\"Convert this dataframe to an interactive table.\"\n",
              "              style=\"display:none;\">\n",
              "        \n",
              "  <svg xmlns=\"http://www.w3.org/2000/svg\" height=\"24px\"viewBox=\"0 0 24 24\"\n",
              "       width=\"24px\">\n",
              "    <path d=\"M0 0h24v24H0V0z\" fill=\"none\"/>\n",
              "    <path d=\"M18.56 5.44l.94 2.06.94-2.06 2.06-.94-2.06-.94-.94-2.06-.94 2.06-2.06.94zm-11 1L8.5 8.5l.94-2.06 2.06-.94-2.06-.94L8.5 2.5l-.94 2.06-2.06.94zm10 10l.94 2.06.94-2.06 2.06-.94-2.06-.94-.94-2.06-.94 2.06-2.06.94z\"/><path d=\"M17.41 7.96l-1.37-1.37c-.4-.4-.92-.59-1.43-.59-.52 0-1.04.2-1.43.59L10.3 9.45l-7.72 7.72c-.78.78-.78 2.05 0 2.83L4 21.41c.39.39.9.59 1.41.59.51 0 1.02-.2 1.41-.59l7.78-7.78 2.81-2.81c.8-.78.8-2.07 0-2.86zM5.41 20L4 18.59l7.72-7.72 1.47 1.35L5.41 20z\"/>\n",
              "  </svg>\n",
              "      </button>\n",
              "      \n",
              "  <style>\n",
              "    .colab-df-container {\n",
              "      display:flex;\n",
              "      flex-wrap:wrap;\n",
              "      gap: 12px;\n",
              "    }\n",
              "\n",
              "    .colab-df-convert {\n",
              "      background-color: #E8F0FE;\n",
              "      border: none;\n",
              "      border-radius: 50%;\n",
              "      cursor: pointer;\n",
              "      display: none;\n",
              "      fill: #1967D2;\n",
              "      height: 32px;\n",
              "      padding: 0 0 0 0;\n",
              "      width: 32px;\n",
              "    }\n",
              "\n",
              "    .colab-df-convert:hover {\n",
              "      background-color: #E2EBFA;\n",
              "      box-shadow: 0px 1px 2px rgba(60, 64, 67, 0.3), 0px 1px 3px 1px rgba(60, 64, 67, 0.15);\n",
              "      fill: #174EA6;\n",
              "    }\n",
              "\n",
              "    [theme=dark] .colab-df-convert {\n",
              "      background-color: #3B4455;\n",
              "      fill: #D2E3FC;\n",
              "    }\n",
              "\n",
              "    [theme=dark] .colab-df-convert:hover {\n",
              "      background-color: #434B5C;\n",
              "      box-shadow: 0px 1px 3px 1px rgba(0, 0, 0, 0.15);\n",
              "      filter: drop-shadow(0px 1px 2px rgba(0, 0, 0, 0.3));\n",
              "      fill: #FFFFFF;\n",
              "    }\n",
              "  </style>\n",
              "\n",
              "      <script>\n",
              "        const buttonEl =\n",
              "          document.querySelector('#df-2a612faa-f2f5-4c30-b88c-25a6dde7c13d button.colab-df-convert');\n",
              "        buttonEl.style.display =\n",
              "          google.colab.kernel.accessAllowed ? 'block' : 'none';\n",
              "\n",
              "        async function convertToInteractive(key) {\n",
              "          const element = document.querySelector('#df-2a612faa-f2f5-4c30-b88c-25a6dde7c13d');\n",
              "          const dataTable =\n",
              "            await google.colab.kernel.invokeFunction('convertToInteractive',\n",
              "                                                     [key], {});\n",
              "          if (!dataTable) return;\n",
              "\n",
              "          const docLinkHtml = 'Like what you see? Visit the ' +\n",
              "            '<a target=\"_blank\" href=https://colab.research.google.com/notebooks/data_table.ipynb>data table notebook</a>'\n",
              "            + ' to learn more about interactive tables.';\n",
              "          element.innerHTML = '';\n",
              "          dataTable['output_type'] = 'display_data';\n",
              "          await google.colab.output.renderOutput(dataTable, element);\n",
              "          const docLink = document.createElement('div');\n",
              "          docLink.innerHTML = docLinkHtml;\n",
              "          element.appendChild(docLink);\n",
              "        }\n",
              "      </script>\n",
              "    </div>\n",
              "  </div>\n",
              "  "
            ]
          },
          "metadata": {},
          "execution_count": 165
        }
      ]
    },
    {
      "cell_type": "code",
      "metadata": {
        "id": "A1RZf-j-Q5O2",
        "outputId": "5c394a4a-7aaa-4cd1-a990-a30dced9cae0",
        "colab": {
          "base_uri": "https://localhost:8080/"
        }
      },
      "source": [
        "#Converting between Pandas DF, Spark DF and RDD\n",
        "#Converting Pandas DF to Spaek DF\n",
        "spDF_2 = sqlContext.createDataFrame(pdDF)\n",
        "spDF_2.show(10)\n",
        "\n",
        "pdDF.head(10)\n",
        "\n",
        "#Accesing RDD\n",
        "spRDD_2=spDF_2.rdd\n",
        "spRDD_2.take(10)"
      ],
      "execution_count": null,
      "outputs": [
        {
          "output_type": "stream",
          "name": "stdout",
          "text": [
            "+------+------+\n",
            "|    _1|    _2|\n",
            "+------+------+\n",
            "|664159|550946|\n",
            "|665845|557965|\n",
            "|597173|575538|\n",
            "|618600|551446|\n",
            "|635690|608046|\n",
            "|588100|557588|\n",
            "|582015|546191|\n",
            "|604678|574577|\n",
            "|572029|518313|\n",
            "|604737|574591|\n",
            "+------+------+\n",
            "only showing top 10 rows\n",
            "\n"
          ]
        },
        {
          "output_type": "execute_result",
          "data": {
            "text/plain": [
              "[Row(_1=664159, _2=550946),\n",
              " Row(_1=665845, _2=557965),\n",
              " Row(_1=597173, _2=575538),\n",
              " Row(_1=618600, _2=551446),\n",
              " Row(_1=635690, _2=608046),\n",
              " Row(_1=588100, _2=557588),\n",
              " Row(_1=582015, _2=546191),\n",
              " Row(_1=604678, _2=574577),\n",
              " Row(_1=572029, _2=518313),\n",
              " Row(_1=604737, _2=574591)]"
            ]
          },
          "metadata": {},
          "execution_count": 166
        }
      ]
    }
  ]
}